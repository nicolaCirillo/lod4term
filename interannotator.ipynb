{
 "cells": [
  {
   "cell_type": "code",
   "execution_count": null,
   "metadata": {},
   "outputs": [],
   "source": [
    "from statsmodels.stats import inter_rater as irr"
   ]
  },
  {
   "cell_type": "code",
   "execution_count": null,
   "metadata": {},
   "outputs": [],
   "source": [
    "import pandas as pd\n",
    "\n",
    "annot_1 = set(pd.read_excel(\"terms_nicola.xlsx\")[\"form\"].values)\n",
    "annot_2 = set(pd.read_excel(\"terms_michele.xlsx\")[\"form\"].values)\n",
    "\n",
    "tp = len(annot_1.intersection(annot_2))\n",
    "fp = len(annot_1.difference(annot_2))\n",
    "fn = len(annot_2.difference(annot_1))\n",
    "\n",
    "p = tp / (tp + fp)\n",
    "r = tp / (tp + fn)\n",
    "\n",
    "f =  2 * r * p / (r + p)\n",
    "print(f)"
   ]
  },
  {
   "cell_type": "code",
   "execution_count": null,
   "metadata": {},
   "outputs": [],
   "source": [
    "import pandas as pd\n",
    "\n",
    "annot_1 = set(pd.read_excel(\"terms_nicola_corretti.xlsx\")[\"form\"].values)\n",
    "annot_2 = set(pd.read_excel(\"terms_michele_corretti.xlsx\")[\"form\"].values)\n",
    "\n",
    "tp = len(annot_1.intersection(annot_2))\n",
    "fp = len(annot_1.difference(annot_2))\n",
    "fn = len(annot_2.difference(annot_1))\n",
    "\n",
    "p = tp / (tp + fp)\n",
    "r = tp / (tp + fn)\n",
    "\n",
    "f =  2 * r * p / (r + p)\n",
    "print(f)"
   ]
  },
  {
   "cell_type": "code",
   "execution_count": null,
   "metadata": {},
   "outputs": [],
   "source": [
    "import pandas as pd\n",
    "forms = set(pd.read_excel(\"terms_corretti.xlsx\")[\"form\"].values)\n",
    "subs = pd.read_excel(\"terms_corretti.xlsx\")[[\"form\", \"subterms\"]]\n",
    "subs = subs.fillna(\"\")\n",
    "subs = {row.form : row.subterms.split(\"; \") for row in subs.itertuples() if row.subterms}"
   ]
  },
  {
   "cell_type": "code",
   "execution_count": null,
   "metadata": {},
   "outputs": [],
   "source": [
    "from terms2lod import terms2lod\n",
    "import json\n",
    "import codecs\n",
    "from multiset import Multiset\n",
    "import numpy as np\n",
    "from itertools import chain\n",
    "\n",
    "def get_entities_from_doc(doc):\n",
    "    text = doc[\"text\"]\n",
    "    ents = terms2lod.get_entities(doc[\"entities\"], text)\n",
    "    ents = terms2lod.join_ents(ents, doc[\"relations\"])\n",
    "    ents = terms2lod.only_longest(ents)\n",
    "    return [e[0] for e in ents.values()]\n",
    "\n",
    "with codecs.open(\"admin.jsonl\", \"r\", \"utf8\") as filein:\n",
    "    json_list = list(filein)\n",
    "corpus_1 = [json.loads(json_str) for json_str in json_list]\n",
    "\n",
    "with codecs.open(\"michele.jsonl\", \"r\", \"utf8\") as filein:\n",
    "    json_list = list(filein)\n",
    "corpus_2 = [json.loads(json_str) for json_str in json_list] \n",
    "\n",
    "values = list()\n",
    "all_1 = list()\n",
    "all_2 = list()\n",
    "\n",
    "for doc_1, doc_2 in zip(corpus_1, corpus_2):\n",
    "\n",
    "    e1 = get_entities_from_doc(doc_1)\n",
    "    e2 = get_entities_from_doc(doc_2)\n",
    "\n",
    "    all_1 +=  e1 + list(chain.from_iterable([subs[e] for e in e1 if e in subs]))\n",
    "    all_2 += e2 + list(chain.from_iterable([subs[e] for e in e2 if e in subs]))\n",
    "\n",
    "    annot_1 = Multiset(get_entities_from_doc(doc_1))\n",
    "    annot_2 = Multiset(get_entities_from_doc(doc_2))\n",
    "\n",
    "    tp = len(annot_1.intersection(annot_2))\n",
    "    fp = len(annot_1.difference(annot_2))\n",
    "    fn = len(annot_2.difference(annot_1))\n",
    "    try:\n",
    "        p = tp / (tp + fp)\n",
    "        r = tp / (tp + fn)\n",
    "        f =  2 * r * p / (r + p)\n",
    "    except ZeroDivisionError:\n",
    "        f = 0\n",
    "    values.append(f)\n",
    "\n",
    "\n",
    "annot_1 = Multiset([t for t in all_1 if t in forms])\n",
    "annot_2 = Multiset([t for t in all_2 if t in forms])\n",
    "\n",
    "tp = len(annot_1.intersection(annot_2))\n",
    "fp = len(annot_1.difference(annot_2))\n",
    "fn = len(annot_2.difference(annot_1))\n",
    "\n",
    "p = tp / (tp + fp)\n",
    "r = tp / (tp + fn)\n",
    "f =  2 * r * p / (r + p)\n",
    "print(f)"
   ]
  },
  {
   "cell_type": "code",
   "execution_count": 9,
   "metadata": {},
   "outputs": [],
   "source": [
    "import pandas as pd\n",
    "df_1 = pd.read_excel(\"terms_nicola_corretti.xlsx\")\n",
    "df_2 = pd.read_excel(\"terms_michele_corretti.xlsx\")\n",
    "\n",
    "forms_1 = set(df_1[\"form\"].values)\n",
    "forms_2 = set(df_2[\"form\"].values)\n",
    "common = forms_1.intersection(forms_2)\n",
    "\n",
    "df_1 = df_1[df_1[\"form\"].isin(common)][[\"form\", \"domain\"]]\n",
    "df_2 = df_2[df_2[\"form\"].isin(common)][[\"form\", \"domain\"]]\n",
    "\n",
    "df_3 = df_1.merge(df_2, on=\"form\", how=\"left\")\n",
    "domain2idx = {\n",
    "    \"Law\": 0,\n",
    "    \"EU Law\": 1,\n",
    "    \"Waste management\": 2,\n",
    "    \"Waste management law\": 3,\n",
    "    \"Environment\": 4,\n",
    "    \"Other\": 5\n",
    "}\n",
    "tags = list()\n",
    "for row in df_3.itertuples():\n",
    "    l = [0, 0, 0, 0, 0, 0]\n",
    "    l[domain2idx[row.domain_x]] += 1\n",
    "    l[domain2idx[row.domain_y]] += 1\n",
    "    tags.append(l)"
   ]
  },
  {
   "cell_type": "code",
   "execution_count": 16,
   "metadata": {},
   "outputs": [
    {
     "data": {
      "text/plain": [
       "0.7070998259627829"
      ]
     },
     "execution_count": 16,
     "metadata": {},
     "output_type": "execute_result"
    }
   ],
   "source": [
    "from statsmodels.stats.inter_rater import fleiss_kappa\n",
    "fleiss_kappa(tags)"
   ]
  },
  {
   "cell_type": "code",
   "execution_count": null,
   "metadata": {},
   "outputs": [],
   "source": []
  }
 ],
 "metadata": {
  "kernelspec": {
   "display_name": "Python 3",
   "language": "python",
   "name": "python3"
  },
  "language_info": {
   "codemirror_mode": {
    "name": "ipython",
    "version": 3
   },
   "file_extension": ".py",
   "mimetype": "text/x-python",
   "name": "python",
   "nbconvert_exporter": "python",
   "pygments_lexer": "ipython3",
   "version": "3.11.4"
  },
  "orig_nbformat": 4
 },
 "nbformat": 4,
 "nbformat_minor": 2
}
