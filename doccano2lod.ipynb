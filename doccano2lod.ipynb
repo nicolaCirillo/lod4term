{
 "cells": [
  {
   "cell_type": "code",
   "execution_count": null,
   "metadata": {},
   "outputs": [],
   "source": [
    "### Generation of the termtables from doccano annotations\n",
    "\n",
    "from terms2lod import jsonl2counter, term_table\n",
    "\n",
    "doccano1 =\"CLiC-IT 2023 data/doccano/annot1_corpus.jsonl\"\n",
    "tb1 = \"CLiC-IT 2023 data/termtables/annot1_termbase.xlsx\"\n",
    "\n",
    "terms, subs = jsonl2counter(doccano1)\n",
    "term_table(terms.most_common(), subs, tb1)\n",
    "\n",
    "doccano2 =\"CLiC-IT 2023 data/doccano/annot2_corpus.jsonl\"\n",
    "tb2 = \"CLiC-IT 2023 data/termtables/annot2_termbase.xlsx\"\n",
    "\n",
    "terms, subs = jsonl2counter(doccano2)\n",
    "term_table(terms.most_common(), subs, tb2)"
   ]
  },
  {
   "cell_type": "markdown",
   "metadata": {},
   "source": [
    "At this stage, annotators are asked to manually revise the termbases. Then, the revised termbases are merged."
   ]
  },
  {
   "cell_type": "code",
   "execution_count": null,
   "metadata": {},
   "outputs": [],
   "source": [
    "#Convertion of the final termbase to OntoLex.Lemon\n",
    "\n",
    "from terms2lod import conversion\n",
    "\n",
    "conversion.set_uri(\"https://example.com/termbase/\")\n",
    "forms = \"CLiC-IT 2023 data/termtables/final_termbase_forms.xlsx\"\n",
    "entries = \"CLiC-IT 2023 data/termtables/final_termbase_entries.xlsx\"\n",
    "termbase = \"CLiC-IT 2023 data/termbases/termbase.ttl\"\n",
    "\n",
    "conversion.termtable2ontolex(termbase, entries, forms)"
   ]
  },
  {
   "cell_type": "code",
   "execution_count": null,
   "metadata": {},
   "outputs": [],
   "source": [
    "### Cloning ontolex validator\n",
    "!git clone https://github.com/ontolex/ontolex-validator\n",
    "!pip install -r ontolex-validator/requirements.txt"
   ]
  },
  {
   "cell_type": "code",
   "execution_count": null,
   "metadata": {},
   "outputs": [],
   "source": [
    "### Validation\n",
    "\n",
    "#The validator has some bugs\n",
    "!python ontolex-validator/src/ontolex-validator.py -f turtle  \"CLiC-IT 2023 data/termbases/termbase.ttl\""
   ]
  },
  {
   "cell_type": "code",
   "execution_count": null,
   "metadata": {},
   "outputs": [],
   "source": [
    "### The corpus is converted into NIF\n",
    "from terms2lod import doccano2nif\n",
    "import codecs\n",
    "\n",
    "collection_uri = \"https://example.com/corpus\"\n",
    "forms = \"CLiC-IT 2023 data/termtables/final_termbase_forms.xlsx\"\n",
    "entries = \"CLiC-IT 2023 data/termtables/final_termbase_entries.xlsx\"\n",
    "termbase = \"https://example.com/termbase/\"\n",
    "\n",
    "nif1 = \"CLiC-IT 2023 data/nif corpus/annotator_1.ttl\"\n",
    "doccano1 = \"CLiC-IT 2023 data/doccano/annot1_corpus.jsonl\"\n",
    "annot1 = \"https://example.com/annotators/annot1\"\n",
    "graph = doccano2nif(nif1, doccano1, collection_uri, forms, entries, termbase, annot1)\n",
    "\n",
    "nif2 = \"CLiC-IT 2023 data/nif corpus/annotator_2.ttl\"\n",
    "doccano2 = \"CLiC-IT 2023 data/doccano/annot2_corpus.jsonl\"\n",
    "annot2 = \"https://example.com/annotators/annot2\"\n",
    "graph +=  doccano2nif(nif2, doccano2, collection_uri, forms, entries, termbase, annot2)\n",
    "\n",
    "with codecs.open(\"CLiC-IT 2023 data/nif corpus/corpus.ttl\", \"w\", \"utf8\") as fileout:\n",
    "    fileout.write(graph.serialize(format=\"turtle\"))"
   ]
  }
 ],
 "metadata": {
  "kernelspec": {
   "display_name": "Python 3",
   "language": "python",
   "name": "python3"
  },
  "language_info": {
   "codemirror_mode": {
    "name": "ipython",
    "version": 3
   },
   "file_extension": ".py",
   "mimetype": "text/x-python",
   "name": "python",
   "nbconvert_exporter": "python",
   "pygments_lexer": "ipython3",
   "version": "3.11.6"
  }
 },
 "nbformat": 4,
 "nbformat_minor": 2
}
